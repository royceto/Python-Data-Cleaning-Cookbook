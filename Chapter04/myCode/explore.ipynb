{
 "metadata": {
  "language_info": {
   "codemirror_mode": {
    "name": "ipython",
    "version": 3
   },
   "file_extension": ".py",
   "mimetype": "text/x-python",
   "name": "python",
   "nbconvert_exporter": "python",
   "pygments_lexer": "ipython3",
   "version": "3.7.2"
  },
  "orig_nbformat": 2,
  "kernelspec": {
   "name": "python372jvsc74a57bd0cdead55e0bf910885e59c202f0810e4d1612dc74557769b9dd7931a5d41e1a7e",
   "display_name": "Python 3.7.2 64-bit ('anaconda3': virtualenv)"
  }
 },
 "nbformat": 4,
 "nbformat_minor": 2,
 "cells": [
  {
   "cell_type": "code",
   "execution_count": 3,
   "metadata": {},
   "outputs": [],
   "source": [
    "import pandas as pd"
   ]
  },
  {
   "cell_type": "code",
   "execution_count": 6,
   "metadata": {},
   "outputs": [],
   "source": [
    "df = pd.read_csv(\"data/covidtotalswithmissings.csv\")"
   ]
  },
  {
   "cell_type": "code",
   "execution_count": 8,
   "metadata": {},
   "outputs": [
    {
     "output_type": "execute_result",
     "data": {
      "text/plain": [
       "(210, 12)"
      ]
     },
     "metadata": {},
     "execution_count": 8
    }
   ],
   "source": [
    "df.shape"
   ]
  },
  {
   "cell_type": "code",
   "execution_count": 23,
   "metadata": {},
   "outputs": [
    {
     "output_type": "stream",
     "name": "stdout",
     "text": [
      "<class 'pandas.core.frame.DataFrame'>\nRangeIndex: 210 entries, 0 to 209\nData columns (total 12 columns):\niso_code           210 non-null object\nlastdate           210 non-null object\nlocation           210 non-null object\ntotal_cases        210 non-null int64\ntotal_deaths       210 non-null int64\ntotal_cases_pm     209 non-null float64\ntotal_deaths_pm    209 non-null float64\npopulation         210 non-null float64\npop_density        198 non-null float64\nmedian_age         186 non-null float64\ngdp_per_capita     182 non-null float64\nhosp_beds          164 non-null float64\ndtypes: float64(7), int64(2), object(3)\nmemory usage: 19.8+ KB\n"
     ]
    }
   ],
   "source": [
    "df.info()"
   ]
  },
  {
   "cell_type": "code",
   "execution_count": 24,
   "metadata": {},
   "outputs": [
    {
     "output_type": "execute_result",
     "data": {
      "text/plain": [
       "iso_code            0\n",
       "lastdate            0\n",
       "location            0\n",
       "total_cases         0\n",
       "total_deaths        0\n",
       "total_cases_pm      1\n",
       "total_deaths_pm     1\n",
       "population          0\n",
       "pop_density        12\n",
       "median_age         24\n",
       "gdp_per_capita     28\n",
       "hosp_beds          46\n",
       "dtype: int64"
      ]
     },
     "metadata": {},
     "execution_count": 24
    }
   ],
   "source": [
    "df.isna().sum()"
   ]
  },
  {
   "cell_type": "code",
   "execution_count": 79,
   "metadata": {},
   "outputs": [
    {
     "output_type": "execute_result",
     "data": {
      "text/plain": [
       "0    156\n",
       "1     23\n",
       "2     12\n",
       "3     11\n",
       "4      8\n",
       "dtype: int64"
      ]
     },
     "metadata": {},
     "execution_count": 79
    }
   ],
   "source": [
    "df.isna().sum(axis=1).value_counts()"
   ]
  },
  {
   "cell_type": "code",
   "execution_count": 78,
   "metadata": {},
   "outputs": [
    {
     "output_type": "execute_result",
     "data": {
      "text/plain": [
       "iso_code                      ESH\n",
       "lastdate               2020-06-01\n",
       "location           Western Sahara\n",
       "total_cases                    23\n",
       "total_deaths                    1\n",
       "total_cases_pm             38.505\n",
       "total_deaths_pm             1.674\n",
       "population                 597330\n",
       "pop_density                   NaN\n",
       "median_age                   28.4\n",
       "gdp_per_capita                NaN\n",
       "hosp_beds                     NaN\n",
       "Name: 206, dtype: object"
      ]
     },
     "metadata": {},
     "execution_count": 78
    }
   ],
   "source": [
    "df.iloc[206]"
   ]
  },
  {
   "cell_type": "code",
   "execution_count": 71,
   "metadata": {},
   "outputs": [
    {
     "output_type": "execute_result",
     "data": {
      "text/plain": [
       "                         44          188             51           204  \\\n",
       "iso_code                 COG         THA             CZE          VEN   \n",
       "lastdate          2020-06-01  2020-06-01      2020-06-01   2020-06-01   \n",
       "location               Congo    Thailand  Czech Republic    Venezuela   \n",
       "total_cases              611        3081            9273         1510   \n",
       "total_deaths              20          57             320           14   \n",
       "total_cases_pm       110.727       44.14         865.909       53.102   \n",
       "total_deaths_pm        3.624       0.817          29.881        0.492   \n",
       "population       5.51809e+06    6.98e+07      1.0709e+07  2.84359e+07   \n",
       "pop_density           15.405     135.132         137.176       36.253   \n",
       "median_age                19        40.1            43.3           29   \n",
       "gdp_per_capita       4881.41     16277.7         32605.9        16745   \n",
       "hosp_beds                NaN         2.1            6.63          0.8   \n",
       "\n",
       "                         35   \n",
       "iso_code                 CAN  \n",
       "lastdate          2020-06-01  \n",
       "location              Canada  \n",
       "total_cases            90936  \n",
       "total_deaths            7295  \n",
       "total_cases_pm        2409.4  \n",
       "total_deaths_pm      193.285  \n",
       "population       3.77422e+07  \n",
       "pop_density            4.037  \n",
       "median_age              41.4  \n",
       "gdp_per_capita       44017.6  \n",
       "hosp_beds                2.5  "
      ],
      "text/html": "<div>\n<style scoped>\n    .dataframe tbody tr th:only-of-type {\n        vertical-align: middle;\n    }\n\n    .dataframe tbody tr th {\n        vertical-align: top;\n    }\n\n    .dataframe thead th {\n        text-align: right;\n    }\n</style>\n<table border=\"1\" class=\"dataframe\">\n  <thead>\n    <tr style=\"text-align: right;\">\n      <th></th>\n      <th>44</th>\n      <th>188</th>\n      <th>51</th>\n      <th>204</th>\n      <th>35</th>\n    </tr>\n  </thead>\n  <tbody>\n    <tr>\n      <th>iso_code</th>\n      <td>COG</td>\n      <td>THA</td>\n      <td>CZE</td>\n      <td>VEN</td>\n      <td>CAN</td>\n    </tr>\n    <tr>\n      <th>lastdate</th>\n      <td>2020-06-01</td>\n      <td>2020-06-01</td>\n      <td>2020-06-01</td>\n      <td>2020-06-01</td>\n      <td>2020-06-01</td>\n    </tr>\n    <tr>\n      <th>location</th>\n      <td>Congo</td>\n      <td>Thailand</td>\n      <td>Czech Republic</td>\n      <td>Venezuela</td>\n      <td>Canada</td>\n    </tr>\n    <tr>\n      <th>total_cases</th>\n      <td>611</td>\n      <td>3081</td>\n      <td>9273</td>\n      <td>1510</td>\n      <td>90936</td>\n    </tr>\n    <tr>\n      <th>total_deaths</th>\n      <td>20</td>\n      <td>57</td>\n      <td>320</td>\n      <td>14</td>\n      <td>7295</td>\n    </tr>\n    <tr>\n      <th>total_cases_pm</th>\n      <td>110.727</td>\n      <td>44.14</td>\n      <td>865.909</td>\n      <td>53.102</td>\n      <td>2409.4</td>\n    </tr>\n    <tr>\n      <th>total_deaths_pm</th>\n      <td>3.624</td>\n      <td>0.817</td>\n      <td>29.881</td>\n      <td>0.492</td>\n      <td>193.285</td>\n    </tr>\n    <tr>\n      <th>population</th>\n      <td>5.51809e+06</td>\n      <td>6.98e+07</td>\n      <td>1.0709e+07</td>\n      <td>2.84359e+07</td>\n      <td>3.77422e+07</td>\n    </tr>\n    <tr>\n      <th>pop_density</th>\n      <td>15.405</td>\n      <td>135.132</td>\n      <td>137.176</td>\n      <td>36.253</td>\n      <td>4.037</td>\n    </tr>\n    <tr>\n      <th>median_age</th>\n      <td>19</td>\n      <td>40.1</td>\n      <td>43.3</td>\n      <td>29</td>\n      <td>41.4</td>\n    </tr>\n    <tr>\n      <th>gdp_per_capita</th>\n      <td>4881.41</td>\n      <td>16277.7</td>\n      <td>32605.9</td>\n      <td>16745</td>\n      <td>44017.6</td>\n    </tr>\n    <tr>\n      <th>hosp_beds</th>\n      <td>NaN</td>\n      <td>2.1</td>\n      <td>6.63</td>\n      <td>0.8</td>\n      <td>2.5</td>\n    </tr>\n  </tbody>\n</table>\n</div>"
     },
     "metadata": {},
     "execution_count": 71
    }
   ],
   "source": [
    "df.sample(5, random_state=1).T"
   ]
  },
  {
   "cell_type": "code",
   "execution_count": 51,
   "metadata": {},
   "outputs": [
    {
     "output_type": "execute_result",
     "data": {
      "text/plain": [
       "                          87\n",
       "iso_code                 HKG\n",
       "lastdate          2020-05-26\n",
       "location           Hong Kong\n",
       "total_cases                0\n",
       "total_deaths               0\n",
       "total_cases_pm           NaN\n",
       "total_deaths_pm          NaN\n",
       "population       7.49699e+06\n",
       "pop_density          7039.71\n",
       "median_age              44.8\n",
       "gdp_per_capita       56054.9\n",
       "hosp_beds                NaN"
      ],
      "text/html": "<div>\n<style scoped>\n    .dataframe tbody tr th:only-of-type {\n        vertical-align: middle;\n    }\n\n    .dataframe tbody tr th {\n        vertical-align: top;\n    }\n\n    .dataframe thead th {\n        text-align: right;\n    }\n</style>\n<table border=\"1\" class=\"dataframe\">\n  <thead>\n    <tr style=\"text-align: right;\">\n      <th></th>\n      <th>87</th>\n    </tr>\n  </thead>\n  <tbody>\n    <tr>\n      <th>iso_code</th>\n      <td>HKG</td>\n    </tr>\n    <tr>\n      <th>lastdate</th>\n      <td>2020-05-26</td>\n    </tr>\n    <tr>\n      <th>location</th>\n      <td>Hong Kong</td>\n    </tr>\n    <tr>\n      <th>total_cases</th>\n      <td>0</td>\n    </tr>\n    <tr>\n      <th>total_deaths</th>\n      <td>0</td>\n    </tr>\n    <tr>\n      <th>total_cases_pm</th>\n      <td>NaN</td>\n    </tr>\n    <tr>\n      <th>total_deaths_pm</th>\n      <td>NaN</td>\n    </tr>\n    <tr>\n      <th>population</th>\n      <td>7.49699e+06</td>\n    </tr>\n    <tr>\n      <th>pop_density</th>\n      <td>7039.71</td>\n    </tr>\n    <tr>\n      <th>median_age</th>\n      <td>44.8</td>\n    </tr>\n    <tr>\n      <th>gdp_per_capita</th>\n      <td>56054.9</td>\n    </tr>\n    <tr>\n      <th>hosp_beds</th>\n      <td>NaN</td>\n    </tr>\n  </tbody>\n</table>\n</div>"
     },
     "metadata": {},
     "execution_count": 51
    }
   ],
   "source": [
    "df[df[\"total_cases_pm\"].isna()].T"
   ]
  },
  {
   "cell_type": "code",
   "execution_count": 58,
   "metadata": {},
   "outputs": [
    {
     "output_type": "execute_result",
     "data": {
      "text/plain": [
       "                        5                                24   \\\n",
       "iso_code                AIA                              BES   \n",
       "lastdate         2020-06-01                       2020-06-01   \n",
       "location           Anguilla  Bonaire Sint Eustatius and Saba   \n",
       "total_cases               3                                7   \n",
       "total_deaths              0                                0   \n",
       "total_cases_pm      199.973                          266.962   \n",
       "total_deaths_pm           0                                0   \n",
       "population            15002                            26221   \n",
       "pop_density             NaN                              NaN   \n",
       "median_age              NaN                              NaN   \n",
       "gdp_per_capita          NaN                              NaN   \n",
       "hosp_beds               NaN                              NaN   \n",
       "\n",
       "                              65          81          100          104  \\\n",
       "iso_code                      FLK         GGY         JEY          XKX   \n",
       "lastdate               2020-06-01  2020-06-01  2020-06-01   2020-06-01   \n",
       "location         Falkland Islands    Guernsey      Jersey       Kosovo   \n",
       "total_cases                    13         252         308         1064   \n",
       "total_deaths                    0          13          29           30   \n",
       "total_cases_pm            3732.41     3758.28      3047.3      550.504   \n",
       "total_deaths_pm                 0     193.879     286.921       15.522   \n",
       "population                   3483       67052      101073  1.93277e+06   \n",
       "pop_density                   NaN         NaN         NaN          NaN   \n",
       "median_age                    NaN         NaN         NaN          NaN   \n",
       "gdp_per_capita                NaN         NaN         NaN          NaN   \n",
       "hosp_beds                     NaN         NaN         NaN          NaN   \n",
       "\n",
       "                        130          176          184          185  \\\n",
       "iso_code                MSR          SSD          SYR          TWN   \n",
       "lastdate         2020-06-01   2020-06-01   2020-06-01   2020-06-01   \n",
       "location         Montserrat  South Sudan        Syria       Taiwan   \n",
       "total_cases              11          994          122          442   \n",
       "total_deaths              1           10            4            7   \n",
       "total_cases_pm      2200.44         88.8        6.971       18.558   \n",
       "total_deaths_pm      200.04        0.893        0.229        0.294   \n",
       "population             4999  1.11937e+07  1.75007e+07  2.38168e+07   \n",
       "pop_density             NaN          NaN          NaN          NaN   \n",
       "median_age              NaN         19.2         21.7         42.2   \n",
       "gdp_per_capita          NaN      1569.89          NaN          NaN   \n",
       "hosp_beds               NaN          NaN          1.5          NaN   \n",
       "\n",
       "                        203             206  \n",
       "iso_code                VAT             ESH  \n",
       "lastdate         2020-06-01      2020-06-01  \n",
       "location            Vatican  Western Sahara  \n",
       "total_cases              12              23  \n",
       "total_deaths              0               1  \n",
       "total_cases_pm      14833.1          38.505  \n",
       "total_deaths_pm           0           1.674  \n",
       "population              809          597330  \n",
       "pop_density             NaN             NaN  \n",
       "median_age              NaN            28.4  \n",
       "gdp_per_capita          NaN             NaN  \n",
       "hosp_beds               NaN             NaN  "
      ],
      "text/html": "<div>\n<style scoped>\n    .dataframe tbody tr th:only-of-type {\n        vertical-align: middle;\n    }\n\n    .dataframe tbody tr th {\n        vertical-align: top;\n    }\n\n    .dataframe thead th {\n        text-align: right;\n    }\n</style>\n<table border=\"1\" class=\"dataframe\">\n  <thead>\n    <tr style=\"text-align: right;\">\n      <th></th>\n      <th>5</th>\n      <th>24</th>\n      <th>65</th>\n      <th>81</th>\n      <th>100</th>\n      <th>104</th>\n      <th>130</th>\n      <th>176</th>\n      <th>184</th>\n      <th>185</th>\n      <th>203</th>\n      <th>206</th>\n    </tr>\n  </thead>\n  <tbody>\n    <tr>\n      <th>iso_code</th>\n      <td>AIA</td>\n      <td>BES</td>\n      <td>FLK</td>\n      <td>GGY</td>\n      <td>JEY</td>\n      <td>XKX</td>\n      <td>MSR</td>\n      <td>SSD</td>\n      <td>SYR</td>\n      <td>TWN</td>\n      <td>VAT</td>\n      <td>ESH</td>\n    </tr>\n    <tr>\n      <th>lastdate</th>\n      <td>2020-06-01</td>\n      <td>2020-06-01</td>\n      <td>2020-06-01</td>\n      <td>2020-06-01</td>\n      <td>2020-06-01</td>\n      <td>2020-06-01</td>\n      <td>2020-06-01</td>\n      <td>2020-06-01</td>\n      <td>2020-06-01</td>\n      <td>2020-06-01</td>\n      <td>2020-06-01</td>\n      <td>2020-06-01</td>\n    </tr>\n    <tr>\n      <th>location</th>\n      <td>Anguilla</td>\n      <td>Bonaire Sint Eustatius and Saba</td>\n      <td>Falkland Islands</td>\n      <td>Guernsey</td>\n      <td>Jersey</td>\n      <td>Kosovo</td>\n      <td>Montserrat</td>\n      <td>South Sudan</td>\n      <td>Syria</td>\n      <td>Taiwan</td>\n      <td>Vatican</td>\n      <td>Western Sahara</td>\n    </tr>\n    <tr>\n      <th>total_cases</th>\n      <td>3</td>\n      <td>7</td>\n      <td>13</td>\n      <td>252</td>\n      <td>308</td>\n      <td>1064</td>\n      <td>11</td>\n      <td>994</td>\n      <td>122</td>\n      <td>442</td>\n      <td>12</td>\n      <td>23</td>\n    </tr>\n    <tr>\n      <th>total_deaths</th>\n      <td>0</td>\n      <td>0</td>\n      <td>0</td>\n      <td>13</td>\n      <td>29</td>\n      <td>30</td>\n      <td>1</td>\n      <td>10</td>\n      <td>4</td>\n      <td>7</td>\n      <td>0</td>\n      <td>1</td>\n    </tr>\n    <tr>\n      <th>total_cases_pm</th>\n      <td>199.973</td>\n      <td>266.962</td>\n      <td>3732.41</td>\n      <td>3758.28</td>\n      <td>3047.3</td>\n      <td>550.504</td>\n      <td>2200.44</td>\n      <td>88.8</td>\n      <td>6.971</td>\n      <td>18.558</td>\n      <td>14833.1</td>\n      <td>38.505</td>\n    </tr>\n    <tr>\n      <th>total_deaths_pm</th>\n      <td>0</td>\n      <td>0</td>\n      <td>0</td>\n      <td>193.879</td>\n      <td>286.921</td>\n      <td>15.522</td>\n      <td>200.04</td>\n      <td>0.893</td>\n      <td>0.229</td>\n      <td>0.294</td>\n      <td>0</td>\n      <td>1.674</td>\n    </tr>\n    <tr>\n      <th>population</th>\n      <td>15002</td>\n      <td>26221</td>\n      <td>3483</td>\n      <td>67052</td>\n      <td>101073</td>\n      <td>1.93277e+06</td>\n      <td>4999</td>\n      <td>1.11937e+07</td>\n      <td>1.75007e+07</td>\n      <td>2.38168e+07</td>\n      <td>809</td>\n      <td>597330</td>\n    </tr>\n    <tr>\n      <th>pop_density</th>\n      <td>NaN</td>\n      <td>NaN</td>\n      <td>NaN</td>\n      <td>NaN</td>\n      <td>NaN</td>\n      <td>NaN</td>\n      <td>NaN</td>\n      <td>NaN</td>\n      <td>NaN</td>\n      <td>NaN</td>\n      <td>NaN</td>\n      <td>NaN</td>\n    </tr>\n    <tr>\n      <th>median_age</th>\n      <td>NaN</td>\n      <td>NaN</td>\n      <td>NaN</td>\n      <td>NaN</td>\n      <td>NaN</td>\n      <td>NaN</td>\n      <td>NaN</td>\n      <td>19.2</td>\n      <td>21.7</td>\n      <td>42.2</td>\n      <td>NaN</td>\n      <td>28.4</td>\n    </tr>\n    <tr>\n      <th>gdp_per_capita</th>\n      <td>NaN</td>\n      <td>NaN</td>\n      <td>NaN</td>\n      <td>NaN</td>\n      <td>NaN</td>\n      <td>NaN</td>\n      <td>NaN</td>\n      <td>1569.89</td>\n      <td>NaN</td>\n      <td>NaN</td>\n      <td>NaN</td>\n      <td>NaN</td>\n    </tr>\n    <tr>\n      <th>hosp_beds</th>\n      <td>NaN</td>\n      <td>NaN</td>\n      <td>NaN</td>\n      <td>NaN</td>\n      <td>NaN</td>\n      <td>NaN</td>\n      <td>NaN</td>\n      <td>NaN</td>\n      <td>1.5</td>\n      <td>NaN</td>\n      <td>NaN</td>\n      <td>NaN</td>\n    </tr>\n  </tbody>\n</table>\n</div>"
     },
     "metadata": {},
     "execution_count": 58
    }
   ],
   "source": [
    "df[df[\"pop_density\"].isna()].T"
   ]
  },
  {
   "cell_type": "code",
   "execution_count": 84,
   "metadata": {},
   "outputs": [
    {
     "output_type": "execute_result",
     "data": {
      "text/plain": [
       "    iso_code    lastdate                         location  total_cases  \\\n",
       "5        AIA  2020-06-01                         Anguilla            3   \n",
       "24       BES  2020-06-01  Bonaire Sint Eustatius and Saba            7   \n",
       "65       FLK  2020-06-01                 Falkland Islands           13   \n",
       "81       GGY  2020-06-01                         Guernsey          252   \n",
       "100      JEY  2020-06-01                           Jersey          308   \n",
       "104      XKX  2020-06-01                           Kosovo         1064   \n",
       "130      MSR  2020-06-01                       Montserrat           11   \n",
       "203      VAT  2020-06-01                          Vatican           12   \n",
       "\n",
       "     total_deaths  total_cases_pm  total_deaths_pm  population  pop_density  \\\n",
       "5               0         199.973            0.000     15002.0          NaN   \n",
       "24              0         266.962            0.000     26221.0          NaN   \n",
       "65              0        3732.415            0.000      3483.0          NaN   \n",
       "81             13        3758.277          193.879     67052.0          NaN   \n",
       "100            29        3047.302          286.921    101073.0          NaN   \n",
       "104            30         550.504           15.522   1932774.0          NaN   \n",
       "130             1        2200.440          200.040      4999.0          NaN   \n",
       "203             0       14833.127            0.000       809.0          NaN   \n",
       "\n",
       "     median_age  gdp_per_capita  hosp_beds  \n",
       "5           NaN             NaN        NaN  \n",
       "24          NaN             NaN        NaN  \n",
       "65          NaN             NaN        NaN  \n",
       "81          NaN             NaN        NaN  \n",
       "100         NaN             NaN        NaN  \n",
       "104         NaN             NaN        NaN  \n",
       "130         NaN             NaN        NaN  \n",
       "203         NaN             NaN        NaN  "
      ],
      "text/html": "<div>\n<style scoped>\n    .dataframe tbody tr th:only-of-type {\n        vertical-align: middle;\n    }\n\n    .dataframe tbody tr th {\n        vertical-align: top;\n    }\n\n    .dataframe thead th {\n        text-align: right;\n    }\n</style>\n<table border=\"1\" class=\"dataframe\">\n  <thead>\n    <tr style=\"text-align: right;\">\n      <th></th>\n      <th>iso_code</th>\n      <th>lastdate</th>\n      <th>location</th>\n      <th>total_cases</th>\n      <th>total_deaths</th>\n      <th>total_cases_pm</th>\n      <th>total_deaths_pm</th>\n      <th>population</th>\n      <th>pop_density</th>\n      <th>median_age</th>\n      <th>gdp_per_capita</th>\n      <th>hosp_beds</th>\n    </tr>\n  </thead>\n  <tbody>\n    <tr>\n      <th>5</th>\n      <td>AIA</td>\n      <td>2020-06-01</td>\n      <td>Anguilla</td>\n      <td>3</td>\n      <td>0</td>\n      <td>199.973</td>\n      <td>0.000</td>\n      <td>15002.0</td>\n      <td>NaN</td>\n      <td>NaN</td>\n      <td>NaN</td>\n      <td>NaN</td>\n    </tr>\n    <tr>\n      <th>24</th>\n      <td>BES</td>\n      <td>2020-06-01</td>\n      <td>Bonaire Sint Eustatius and Saba</td>\n      <td>7</td>\n      <td>0</td>\n      <td>266.962</td>\n      <td>0.000</td>\n      <td>26221.0</td>\n      <td>NaN</td>\n      <td>NaN</td>\n      <td>NaN</td>\n      <td>NaN</td>\n    </tr>\n    <tr>\n      <th>65</th>\n      <td>FLK</td>\n      <td>2020-06-01</td>\n      <td>Falkland Islands</td>\n      <td>13</td>\n      <td>0</td>\n      <td>3732.415</td>\n      <td>0.000</td>\n      <td>3483.0</td>\n      <td>NaN</td>\n      <td>NaN</td>\n      <td>NaN</td>\n      <td>NaN</td>\n    </tr>\n    <tr>\n      <th>81</th>\n      <td>GGY</td>\n      <td>2020-06-01</td>\n      <td>Guernsey</td>\n      <td>252</td>\n      <td>13</td>\n      <td>3758.277</td>\n      <td>193.879</td>\n      <td>67052.0</td>\n      <td>NaN</td>\n      <td>NaN</td>\n      <td>NaN</td>\n      <td>NaN</td>\n    </tr>\n    <tr>\n      <th>100</th>\n      <td>JEY</td>\n      <td>2020-06-01</td>\n      <td>Jersey</td>\n      <td>308</td>\n      <td>29</td>\n      <td>3047.302</td>\n      <td>286.921</td>\n      <td>101073.0</td>\n      <td>NaN</td>\n      <td>NaN</td>\n      <td>NaN</td>\n      <td>NaN</td>\n    </tr>\n    <tr>\n      <th>104</th>\n      <td>XKX</td>\n      <td>2020-06-01</td>\n      <td>Kosovo</td>\n      <td>1064</td>\n      <td>30</td>\n      <td>550.504</td>\n      <td>15.522</td>\n      <td>1932774.0</td>\n      <td>NaN</td>\n      <td>NaN</td>\n      <td>NaN</td>\n      <td>NaN</td>\n    </tr>\n    <tr>\n      <th>130</th>\n      <td>MSR</td>\n      <td>2020-06-01</td>\n      <td>Montserrat</td>\n      <td>11</td>\n      <td>1</td>\n      <td>2200.440</td>\n      <td>200.040</td>\n      <td>4999.0</td>\n      <td>NaN</td>\n      <td>NaN</td>\n      <td>NaN</td>\n      <td>NaN</td>\n    </tr>\n    <tr>\n      <th>203</th>\n      <td>VAT</td>\n      <td>2020-06-01</td>\n      <td>Vatican</td>\n      <td>12</td>\n      <td>0</td>\n      <td>14833.127</td>\n      <td>0.000</td>\n      <td>809.0</td>\n      <td>NaN</td>\n      <td>NaN</td>\n      <td>NaN</td>\n      <td>NaN</td>\n    </tr>\n  </tbody>\n</table>\n</div>"
     },
     "metadata": {},
     "execution_count": 84
    }
   ],
   "source": [
    "cols = ['pop_density', 'median_age',\"gdp_per_capita\",\"hosp_beds\"]\n",
    "df[df[cols].isna().all(1)]"
   ]
  },
  {
   "cell_type": "code",
   "execution_count": 96,
   "metadata": {},
   "outputs": [
    {
     "output_type": "execute_result",
     "data": {
      "text/plain": [
       "0    156\n",
       "1     24\n",
       "2     12\n",
       "3     10\n",
       "4      8\n",
       "dtype: int64"
      ]
     },
     "metadata": {},
     "execution_count": 96
    }
   ],
   "source": [
    "demovars = [\n",
    "    \"population\",\n",
    "    \"pop_density\",\n",
    "    \"median_age\",\n",
    "    \"gdp_per_capita\",\n",
    "    \"hosp_beds\"\n",
    "]\n",
    "\n",
    "demovarsmisscnt = df[demovars].isnull().sum(axis=1)\n",
    "demovarsmisscnt.value_counts()"
   ]
  },
  {
   "cell_type": "code",
   "execution_count": 108,
   "metadata": {},
   "outputs": [
    {
     "output_type": "execute_result",
     "data": {
      "text/plain": [
       "                            location  population  pop_density  median_age  \\\n",
       "3                            Andorra     77265.0      163.755         NaN   \n",
       "5                           Anguilla     15002.0          NaN         NaN   \n",
       "24   Bonaire Sint Eustatius and Saba     26221.0          NaN         NaN   \n",
       "28            British Virgin Islands     30237.0      207.973         NaN   \n",
       "64                    Faeroe Islands     48865.0       35.308         NaN   \n",
       "65                  Falkland Islands      3483.0          NaN         NaN   \n",
       "75                         Gibraltar     33691.0     3457.100         NaN   \n",
       "77                         Greenland     56772.0        0.137         NaN   \n",
       "81                          Guernsey     67052.0          NaN         NaN   \n",
       "95                       Isle of Man     85032.0      147.872         NaN   \n",
       "100                           Jersey    101073.0          NaN         NaN   \n",
       "104                           Kosovo   1932774.0          NaN         NaN   \n",
       "130                       Montserrat      4999.0          NaN         NaN   \n",
       "142         Northern Mariana Islands     57557.0      119.878         NaN   \n",
       "185                           Taiwan  23816775.0          NaN        42.2   \n",
       "194         Turks and Caicos Islands     38718.0       37.312         NaN   \n",
       "203                          Vatican       809.0          NaN         NaN   \n",
       "206                   Western Sahara    597330.0          NaN        28.4   \n",
       "\n",
       "     gdp_per_capita  hosp_beds  \n",
       "3               NaN        NaN  \n",
       "5               NaN        NaN  \n",
       "24              NaN        NaN  \n",
       "28              NaN        NaN  \n",
       "64              NaN        NaN  \n",
       "65              NaN        NaN  \n",
       "75              NaN        NaN  \n",
       "77              NaN        NaN  \n",
       "81              NaN        NaN  \n",
       "95              NaN        NaN  \n",
       "100             NaN        NaN  \n",
       "104             NaN        NaN  \n",
       "130             NaN        NaN  \n",
       "142             NaN        NaN  \n",
       "185             NaN        NaN  \n",
       "194             NaN        NaN  \n",
       "203             NaN        NaN  \n",
       "206             NaN        NaN  "
      ],
      "text/html": "<div>\n<style scoped>\n    .dataframe tbody tr th:only-of-type {\n        vertical-align: middle;\n    }\n\n    .dataframe tbody tr th {\n        vertical-align: top;\n    }\n\n    .dataframe thead th {\n        text-align: right;\n    }\n</style>\n<table border=\"1\" class=\"dataframe\">\n  <thead>\n    <tr style=\"text-align: right;\">\n      <th></th>\n      <th>location</th>\n      <th>population</th>\n      <th>pop_density</th>\n      <th>median_age</th>\n      <th>gdp_per_capita</th>\n      <th>hosp_beds</th>\n    </tr>\n  </thead>\n  <tbody>\n    <tr>\n      <th>3</th>\n      <td>Andorra</td>\n      <td>77265.0</td>\n      <td>163.755</td>\n      <td>NaN</td>\n      <td>NaN</td>\n      <td>NaN</td>\n    </tr>\n    <tr>\n      <th>5</th>\n      <td>Anguilla</td>\n      <td>15002.0</td>\n      <td>NaN</td>\n      <td>NaN</td>\n      <td>NaN</td>\n      <td>NaN</td>\n    </tr>\n    <tr>\n      <th>24</th>\n      <td>Bonaire Sint Eustatius and Saba</td>\n      <td>26221.0</td>\n      <td>NaN</td>\n      <td>NaN</td>\n      <td>NaN</td>\n      <td>NaN</td>\n    </tr>\n    <tr>\n      <th>28</th>\n      <td>British Virgin Islands</td>\n      <td>30237.0</td>\n      <td>207.973</td>\n      <td>NaN</td>\n      <td>NaN</td>\n      <td>NaN</td>\n    </tr>\n    <tr>\n      <th>64</th>\n      <td>Faeroe Islands</td>\n      <td>48865.0</td>\n      <td>35.308</td>\n      <td>NaN</td>\n      <td>NaN</td>\n      <td>NaN</td>\n    </tr>\n    <tr>\n      <th>65</th>\n      <td>Falkland Islands</td>\n      <td>3483.0</td>\n      <td>NaN</td>\n      <td>NaN</td>\n      <td>NaN</td>\n      <td>NaN</td>\n    </tr>\n    <tr>\n      <th>75</th>\n      <td>Gibraltar</td>\n      <td>33691.0</td>\n      <td>3457.100</td>\n      <td>NaN</td>\n      <td>NaN</td>\n      <td>NaN</td>\n    </tr>\n    <tr>\n      <th>77</th>\n      <td>Greenland</td>\n      <td>56772.0</td>\n      <td>0.137</td>\n      <td>NaN</td>\n      <td>NaN</td>\n      <td>NaN</td>\n    </tr>\n    <tr>\n      <th>81</th>\n      <td>Guernsey</td>\n      <td>67052.0</td>\n      <td>NaN</td>\n      <td>NaN</td>\n      <td>NaN</td>\n      <td>NaN</td>\n    </tr>\n    <tr>\n      <th>95</th>\n      <td>Isle of Man</td>\n      <td>85032.0</td>\n      <td>147.872</td>\n      <td>NaN</td>\n      <td>NaN</td>\n      <td>NaN</td>\n    </tr>\n    <tr>\n      <th>100</th>\n      <td>Jersey</td>\n      <td>101073.0</td>\n      <td>NaN</td>\n      <td>NaN</td>\n      <td>NaN</td>\n      <td>NaN</td>\n    </tr>\n    <tr>\n      <th>104</th>\n      <td>Kosovo</td>\n      <td>1932774.0</td>\n      <td>NaN</td>\n      <td>NaN</td>\n      <td>NaN</td>\n      <td>NaN</td>\n    </tr>\n    <tr>\n      <th>130</th>\n      <td>Montserrat</td>\n      <td>4999.0</td>\n      <td>NaN</td>\n      <td>NaN</td>\n      <td>NaN</td>\n      <td>NaN</td>\n    </tr>\n    <tr>\n      <th>142</th>\n      <td>Northern Mariana Islands</td>\n      <td>57557.0</td>\n      <td>119.878</td>\n      <td>NaN</td>\n      <td>NaN</td>\n      <td>NaN</td>\n    </tr>\n    <tr>\n      <th>185</th>\n      <td>Taiwan</td>\n      <td>23816775.0</td>\n      <td>NaN</td>\n      <td>42.2</td>\n      <td>NaN</td>\n      <td>NaN</td>\n    </tr>\n    <tr>\n      <th>194</th>\n      <td>Turks and Caicos Islands</td>\n      <td>38718.0</td>\n      <td>37.312</td>\n      <td>NaN</td>\n      <td>NaN</td>\n      <td>NaN</td>\n    </tr>\n    <tr>\n      <th>203</th>\n      <td>Vatican</td>\n      <td>809.0</td>\n      <td>NaN</td>\n      <td>NaN</td>\n      <td>NaN</td>\n      <td>NaN</td>\n    </tr>\n    <tr>\n      <th>206</th>\n      <td>Western Sahara</td>\n      <td>597330.0</td>\n      <td>NaN</td>\n      <td>28.4</td>\n      <td>NaN</td>\n      <td>NaN</td>\n    </tr>\n  </tbody>\n</table>\n</div>"
     },
     "metadata": {},
     "execution_count": 108
    }
   ],
   "source": [
    "df.loc[demovarsmisscnt>=3, [\"location\"]+demovars]"
   ]
  },
  {
   "cell_type": "code",
   "execution_count": null,
   "metadata": {},
   "outputs": [],
   "source": []
  }
 ]
}