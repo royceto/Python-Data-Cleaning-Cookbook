{
 "metadata": {
  "language_info": {
   "codemirror_mode": {
    "name": "ipython",
    "version": 3
   },
   "file_extension": ".py",
   "mimetype": "text/x-python",
   "name": "python",
   "nbconvert_exporter": "python",
   "pygments_lexer": "ipython3",
   "version": "3.7.2"
  },
  "orig_nbformat": 2,
  "kernelspec": {
   "name": "python372jvsc74a57bd0cdead55e0bf910885e59c202f0810e4d1612dc74557769b9dd7931a5d41e1a7e",
   "display_name": "Python 3.7.2 64-bit ('anaconda3': virtualenv)"
  }
 },
 "nbformat": 4,
 "nbformat_minor": 2,
 "cells": [
  {
   "source": [
    "# Chapter 4 - Missing Values"
   ],
   "cell_type": "markdown",
   "metadata": {}
  },
  {
   "cell_type": "code",
   "execution_count": 183,
   "metadata": {},
   "outputs": [],
   "source": [
    "import pandas as pd\n",
    "import numpy as np\n",
    "import matplotlib.pyplot as plt"
   ]
  },
  {
   "cell_type": "code",
   "execution_count": 184,
   "metadata": {},
   "outputs": [
    {
     "output_type": "stream",
     "name": "stdout",
     "text": [
      "<class 'pandas.core.frame.DataFrame'>\nRangeIndex: 210 entries, 0 to 209\nData columns (total 12 columns):\niso_code           210 non-null object\nlastdate           210 non-null object\nlocation           210 non-null object\ntotal_cases        210 non-null int64\ntotal_deaths       210 non-null int64\ntotal_cases_pm     209 non-null float64\ntotal_deaths_pm    209 non-null float64\npopulation         210 non-null float64\npop_density        198 non-null float64\nmedian_age         186 non-null float64\ngdp_per_capita     182 non-null float64\nhosp_beds          164 non-null float64\ndtypes: float64(7), int64(2), object(3)\nmemory usage: 19.8+ KB\n"
     ]
    }
   ],
   "source": [
    "covidtotals = pd.read_csv(\"data/covidtotalswithmissings.csv\")\n",
    "covidtotals.info()"
   ]
  },
  {
   "cell_type": "code",
   "execution_count": 185,
   "metadata": {},
   "outputs": [],
   "source": [
    "totvars = ['location', 'total_cases', 'total_deaths',\n",
    "       'total_cases_pm', 'total_deaths_pm']\n",
    "\n",
    "demovars = ['population', 'pop_density',\n",
    "       'median_age', 'gdp_per_capita', 'hosp_beds']\n",
    " "
   ]
  },
  {
   "source": [
    "## Check missing values (isnull) - demovars"
   ],
   "cell_type": "markdown",
   "metadata": {}
  },
  {
   "cell_type": "code",
   "execution_count": 186,
   "metadata": {},
   "outputs": [
    {
     "output_type": "execute_result",
     "data": {
      "text/plain": [
       "population         0\n",
       "pop_density       12\n",
       "median_age        24\n",
       "gdp_per_capita    28\n",
       "hosp_beds         46\n",
       "dtype: int64"
      ]
     },
     "metadata": {},
     "execution_count": 186
    }
   ],
   "source": [
    "#by column\n",
    "covidtotals[demovars].isnull().sum()"
   ]
  },
  {
   "cell_type": "code",
   "execution_count": 187,
   "metadata": {},
   "outputs": [
    {
     "output_type": "execute_result",
     "data": {
      "text/plain": [
       "0    156\n",
       "1     24\n",
       "2     12\n",
       "3     10\n",
       "4      8\n",
       "dtype: int64"
      ]
     },
     "metadata": {},
     "execution_count": 187
    }
   ],
   "source": [
    "#by row\n",
    "demovarsmisscnt = covidtotals[demovars].isnull().sum(axis=1)\n",
    "demovarsmisscnt.value_counts()"
   ]
  },
  {
   "cell_type": "code",
   "execution_count": 188,
   "metadata": {},
   "outputs": [
    {
     "output_type": "execute_result",
     "data": {
      "text/plain": [
       "                     3         5                                24  \\\n",
       "location        Andorra  Anguilla  Bonaire Sint Eustatius and Saba   \n",
       "population        77265     15002                            26221   \n",
       "pop_density     163.755       NaN                              NaN   \n",
       "median_age          NaN       NaN                              NaN   \n",
       "gdp_per_capita      NaN       NaN                              NaN   \n",
       "hosp_beds           NaN       NaN                              NaN   \n",
       "\n",
       "                                    28              64  \n",
       "location        British Virgin Islands  Faeroe Islands  \n",
       "population                       30237           48865  \n",
       "pop_density                    207.973          35.308  \n",
       "median_age                         NaN             NaN  \n",
       "gdp_per_capita                     NaN             NaN  \n",
       "hosp_beds                          NaN             NaN  "
      ],
      "text/html": "<div>\n<style scoped>\n    .dataframe tbody tr th:only-of-type {\n        vertical-align: middle;\n    }\n\n    .dataframe tbody tr th {\n        vertical-align: top;\n    }\n\n    .dataframe thead th {\n        text-align: right;\n    }\n</style>\n<table border=\"1\" class=\"dataframe\">\n  <thead>\n    <tr style=\"text-align: right;\">\n      <th></th>\n      <th>3</th>\n      <th>5</th>\n      <th>24</th>\n      <th>28</th>\n      <th>64</th>\n    </tr>\n  </thead>\n  <tbody>\n    <tr>\n      <th>location</th>\n      <td>Andorra</td>\n      <td>Anguilla</td>\n      <td>Bonaire Sint Eustatius and Saba</td>\n      <td>British Virgin Islands</td>\n      <td>Faeroe Islands</td>\n    </tr>\n    <tr>\n      <th>population</th>\n      <td>77265</td>\n      <td>15002</td>\n      <td>26221</td>\n      <td>30237</td>\n      <td>48865</td>\n    </tr>\n    <tr>\n      <th>pop_density</th>\n      <td>163.755</td>\n      <td>NaN</td>\n      <td>NaN</td>\n      <td>207.973</td>\n      <td>35.308</td>\n    </tr>\n    <tr>\n      <th>median_age</th>\n      <td>NaN</td>\n      <td>NaN</td>\n      <td>NaN</td>\n      <td>NaN</td>\n      <td>NaN</td>\n    </tr>\n    <tr>\n      <th>gdp_per_capita</th>\n      <td>NaN</td>\n      <td>NaN</td>\n      <td>NaN</td>\n      <td>NaN</td>\n      <td>NaN</td>\n    </tr>\n    <tr>\n      <th>hosp_beds</th>\n      <td>NaN</td>\n      <td>NaN</td>\n      <td>NaN</td>\n      <td>NaN</td>\n      <td>NaN</td>\n    </tr>\n  </tbody>\n</table>\n</div>"
     },
     "metadata": {},
     "execution_count": 188
    }
   ],
   "source": [
    "#actual rows with data missing (here, more than 3 NaN for each row)\n",
    "covidtotals.loc[demovarsmisscnt>=3,[\"location\"]+demovars].head().T"
   ]
  },
  {
   "source": [
    "## Check missing values (isnull) - totvars"
   ],
   "cell_type": "markdown",
   "metadata": {}
  },
  {
   "cell_type": "code",
   "execution_count": 189,
   "metadata": {},
   "outputs": [
    {
     "output_type": "execute_result",
     "data": {
      "text/plain": [
       "location           0\n",
       "total_cases        0\n",
       "total_deaths       0\n",
       "total_cases_pm     1\n",
       "total_deaths_pm    1\n",
       "dtype: int64"
      ]
     },
     "metadata": {},
     "execution_count": 189
    }
   ],
   "source": [
    "covidtotals[totvars].isnull().sum()"
   ]
  },
  {
   "cell_type": "code",
   "execution_count": 190,
   "metadata": {},
   "outputs": [
    {
     "output_type": "execute_result",
     "data": {
      "text/plain": [
       "0    209\n",
       "2      1\n",
       "dtype: int64"
      ]
     },
     "metadata": {},
     "execution_count": 190
    }
   ],
   "source": [
    "totvarsmisscnt = covidtotals[totvars].isnull().sum(axis=1)\n",
    "totvarsmisscnt.value_counts()"
   ]
  },
  {
   "cell_type": "code",
   "execution_count": 191,
   "metadata": {},
   "outputs": [
    {
     "output_type": "execute_result",
     "data": {
      "text/plain": [
       "                          87\n",
       "iso_code                 HKG\n",
       "lastdate          2020-05-26\n",
       "location           Hong Kong\n",
       "total_cases                0\n",
       "total_deaths               0\n",
       "total_cases_pm           NaN\n",
       "total_deaths_pm          NaN\n",
       "population       7.49699e+06\n",
       "pop_density          7039.71\n",
       "median_age              44.8\n",
       "gdp_per_capita       56054.9\n",
       "hosp_beds                NaN"
      ],
      "text/html": "<div>\n<style scoped>\n    .dataframe tbody tr th:only-of-type {\n        vertical-align: middle;\n    }\n\n    .dataframe tbody tr th {\n        vertical-align: top;\n    }\n\n    .dataframe thead th {\n        text-align: right;\n    }\n</style>\n<table border=\"1\" class=\"dataframe\">\n  <thead>\n    <tr style=\"text-align: right;\">\n      <th></th>\n      <th>87</th>\n    </tr>\n  </thead>\n  <tbody>\n    <tr>\n      <th>iso_code</th>\n      <td>HKG</td>\n    </tr>\n    <tr>\n      <th>lastdate</th>\n      <td>2020-05-26</td>\n    </tr>\n    <tr>\n      <th>location</th>\n      <td>Hong Kong</td>\n    </tr>\n    <tr>\n      <th>total_cases</th>\n      <td>0</td>\n    </tr>\n    <tr>\n      <th>total_deaths</th>\n      <td>0</td>\n    </tr>\n    <tr>\n      <th>total_cases_pm</th>\n      <td>NaN</td>\n    </tr>\n    <tr>\n      <th>total_deaths_pm</th>\n      <td>NaN</td>\n    </tr>\n    <tr>\n      <th>population</th>\n      <td>7.49699e+06</td>\n    </tr>\n    <tr>\n      <th>pop_density</th>\n      <td>7039.71</td>\n    </tr>\n    <tr>\n      <th>median_age</th>\n      <td>44.8</td>\n    </tr>\n    <tr>\n      <th>gdp_per_capita</th>\n      <td>56054.9</td>\n    </tr>\n    <tr>\n      <th>hosp_beds</th>\n      <td>NaN</td>\n    </tr>\n  </tbody>\n</table>\n</div>"
     },
     "metadata": {},
     "execution_count": 191
    }
   ],
   "source": [
    "covidtotals.loc[totvarsmisscnt>0].T"
   ]
  },
  {
   "cell_type": "code",
   "execution_count": 198,
   "metadata": {},
   "outputs": [],
   "source": [
    "#fill na\n",
    "covidtotals[\"total_cases_pm\"].fillna(covidtotals[\"total_cases\"]/(covidtotals[\"population\"]/1000000), inplace=True)\n",
    "covidtotals[\"total_deaths_pm\"].fillna(covidtotals[\"total_deaths\"]/(covidtotals[\"population\"]/1000000), inplace=True)"
   ]
  },
  {
   "cell_type": "code",
   "execution_count": 200,
   "metadata": {},
   "outputs": [
    {
     "output_type": "execute_result",
     "data": {
      "text/plain": [
       "                          87\n",
       "iso_code                 HKG\n",
       "lastdate          2020-05-26\n",
       "location           Hong Kong\n",
       "total_cases                0\n",
       "total_deaths               0\n",
       "total_cases_pm             0\n",
       "total_deaths_pm            0\n",
       "population       7.49699e+06\n",
       "pop_density          7039.71\n",
       "median_age              44.8\n",
       "gdp_per_capita       56054.9\n",
       "hosp_beds                NaN"
      ],
      "text/html": "<div>\n<style scoped>\n    .dataframe tbody tr th:only-of-type {\n        vertical-align: middle;\n    }\n\n    .dataframe tbody tr th {\n        vertical-align: top;\n    }\n\n    .dataframe thead th {\n        text-align: right;\n    }\n</style>\n<table border=\"1\" class=\"dataframe\">\n  <thead>\n    <tr style=\"text-align: right;\">\n      <th></th>\n      <th>87</th>\n    </tr>\n  </thead>\n  <tbody>\n    <tr>\n      <th>iso_code</th>\n      <td>HKG</td>\n    </tr>\n    <tr>\n      <th>lastdate</th>\n      <td>2020-05-26</td>\n    </tr>\n    <tr>\n      <th>location</th>\n      <td>Hong Kong</td>\n    </tr>\n    <tr>\n      <th>total_cases</th>\n      <td>0</td>\n    </tr>\n    <tr>\n      <th>total_deaths</th>\n      <td>0</td>\n    </tr>\n    <tr>\n      <th>total_cases_pm</th>\n      <td>0</td>\n    </tr>\n    <tr>\n      <th>total_deaths_pm</th>\n      <td>0</td>\n    </tr>\n    <tr>\n      <th>population</th>\n      <td>7.49699e+06</td>\n    </tr>\n    <tr>\n      <th>pop_density</th>\n      <td>7039.71</td>\n    </tr>\n    <tr>\n      <th>median_age</th>\n      <td>44.8</td>\n    </tr>\n    <tr>\n      <th>gdp_per_capita</th>\n      <td>56054.9</td>\n    </tr>\n    <tr>\n      <th>hosp_beds</th>\n      <td>NaN</td>\n    </tr>\n  </tbody>\n</table>\n</div>"
     },
     "metadata": {},
     "execution_count": 200
    }
   ],
   "source": [
    "covidtotals[covidtotals[\"iso_code\"]==\"HKG\"].T"
   ]
  }
 ]
}